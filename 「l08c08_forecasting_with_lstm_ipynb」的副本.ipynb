{
  "cells": [
    {
      "cell_type": "markdown",
      "metadata": {
        "id": "Za8-Nr5k11fh"
      },
      "source": [
        "##### Copyright 2018 The TensorFlow Authors."
      ]
    },
    {
      "cell_type": "code",
      "execution_count": 1,
      "metadata": {
        "id": "Eq10uEbw0E4l"
      },
      "outputs": [],
      "source": [
        "#@title Licensed under the Apache License, Version 2.0 (the \"License\");\n",
        "# you may not use this file except in compliance with the License.\n",
        "# You may obtain a copy of the License at\n",
        "#\n",
        "# https://www.apache.org/licenses/LICENSE-2.0\n",
        "#\n",
        "# Unless required by applicable law or agreed to in writing, software\n",
        "# distributed under the License is distributed on an \"AS IS\" BASIS,\n",
        "# WITHOUT WARRANTIES OR CONDITIONS OF ANY KIND, either express or implied.\n",
        "# See the License for the specific language governing permissions and\n",
        "# limitations under the License."
      ]
    },
    {
      "cell_type": "markdown",
      "metadata": {
        "id": "E5VI4y76i14x"
      },
      "source": [
        "# Forecasting with an LSTM"
      ]
    },
    {
      "cell_type": "markdown",
      "metadata": {
        "id": "-Da7hZzJh3mg"
      },
      "source": [
        "<table class=\"tfo-notebook-buttons\" align=\"left\">\n",
        "  <td>\n",
        "    <a target=\"_blank\" href=\"https://colab.research.google.com/github/tensorflow/examples/blob/master/courses/udacity_intro_to_tensorflow_for_deep_learning/l08c08_forecasting_with_lstm.ipynb\"><img src=\"https://www.tensorflow.org/images/colab_logo_32px.png\" />Run in Google Colab</a>\n",
        "  </td>\n",
        "  <td>\n",
        "    <a target=\"_blank\" href=\"https://github.com/tensorflow/examples/blob/master/courses/udacity_intro_to_tensorflow_for_deep_learning/l08c08_forecasting_with_lstm.ipynb\"><img src=\"https://www.tensorflow.org/images/GitHub-Mark-32px.png\" />View source on GitHub</a>\n",
        "  </td>\n",
        "</table>"
      ]
    },
    {
      "cell_type": "markdown",
      "metadata": {
        "id": "vidayERjaO5q"
      },
      "source": [
        "## Setup"
      ]
    },
    {
      "cell_type": "code",
      "execution_count": 17,
      "metadata": {
        "id": "gqWabzlJ63nL"
      },
      "outputs": [],
      "source": [
        "import numpy as np\n",
        "import matplotlib.pyplot as plt\n",
        "import tensorflow as tf\n",
        "\n",
        "keras = tf.keras"
      ]
    },
    {
      "cell_type": "code",
      "execution_count": 18,
      "metadata": {
        "id": "cg1hfKCPldZG"
      },
      "outputs": [],
      "source": [
        "def plot_series(time, series, format=\"-\", start=0, end=None, label=None):\n",
        "    plt.plot(time[start:end], series[start:end], format, label=label)\n",
        "    plt.xlabel(\"Time\")\n",
        "    plt.ylabel(\"Value\")\n",
        "    if label:\n",
        "        plt.legend(fontsize=14)\n",
        "    plt.grid(True)\n",
        "    \n",
        "def trend(time, slope=0):\n",
        "    return slope * time\n",
        "  \n",
        "  \n",
        "def seasonal_pattern(season_time):\n",
        "    \"\"\"Just an arbitrary pattern, you can change it if you wish\"\"\"\n",
        "    return np.where(season_time < 0.4,\n",
        "                    np.cos(season_time * 2 * np.pi),\n",
        "                    1 / np.exp(3 * season_time))\n",
        "\n",
        "  \n",
        "def seasonality(time, period, amplitude=1, phase=0):\n",
        "    \"\"\"Repeats the same pattern at each period\"\"\"\n",
        "    season_time = ((time + phase) % period) / period\n",
        "    return amplitude * seasonal_pattern(season_time)\n",
        "  \n",
        "  \n",
        "def white_noise(time, noise_level=1, seed=None):\n",
        "    rnd = np.random.RandomState(seed)\n",
        "    return rnd.randn(len(time)) * noise_level\n",
        "  \n",
        "\n",
        "def sequential_window_dataset(series, window_size):\n",
        "    series = tf.expand_dims(series, axis=-1)\n",
        "    ds = tf.data.Dataset.from_tensor_slices(series)\n",
        "    ds = ds.window(window_size + 1, shift=window_size, drop_remainder=True)\n",
        "    ds = ds.flat_map(lambda window: window.batch(window_size + 1))\n",
        "    ds = ds.map(lambda window: (window[:-1], window[1:]))\n",
        "    return ds.batch(1).prefetch(1)\n",
        "     "
      ]
    },
    {
      "cell_type": "code",
      "source": [
        "for x_batch, y_batch in sequential_window_dataset(tf.range(10),3):\n",
        "  print(x_batch.numpy(), y_batch.numpy())"
      ],
      "metadata": {
        "colab": {
          "base_uri": "https://localhost:8080/"
        },
        "id": "AFfsXYXIGA5l",
        "outputId": "a257a6d3-d3f2-42ea-8443-d080f4c03768"
      },
      "execution_count": 19,
      "outputs": [
        {
          "output_type": "stream",
          "name": "stdout",
          "text": [
            "[[[0]\n",
            "  [1]\n",
            "  [2]]] [[[1]\n",
            "  [2]\n",
            "  [3]]]\n",
            "[[[3]\n",
            "  [4]\n",
            "  [5]]] [[[4]\n",
            "  [5]\n",
            "  [6]]]\n",
            "[[[6]\n",
            "  [7]\n",
            "  [8]]] [[[7]\n",
            "  [8]\n",
            "  [9]]]\n"
          ]
        }
      ]
    },
    {
      "cell_type": "code",
      "execution_count": 20,
      "metadata": {
        "id": "iL2DDjV3lel6",
        "colab": {
          "base_uri": "https://localhost:8080/",
          "height": 388
        },
        "outputId": "46d69962-62e7-4160-c84b-dcbcbce5e01a"
      },
      "outputs": [
        {
          "output_type": "display_data",
          "data": {
            "text/plain": [
              "<Figure size 720x432 with 1 Axes>"
            ],
            "image/png": "[encoded data removed]"
          },
          "metadata": {
            "needs_background": "light"
          }
        }
      ],
      "source": [
        "time = np.arange(4 * 365 + 1)\n",
        "\n",
        "slope = 0.05\n",
        "baseline = 10\n",
        "amplitude = 40\n",
        "series = baseline + trend(time, slope) + seasonality(time, period=365, amplitude=amplitude)\n",
        "\n",
        "noise_level = 5\n",
        "noise = white_noise(time, noise_level, seed=42)\n",
        "\n",
        "series += noise\n",
        "\n",
        "plt.figure(figsize=(10, 6))\n",
        "plot_series(time, series)\n",
        "plt.show()"
      ]
    },
    {
      "cell_type": "code",
      "execution_count": 15,
      "metadata": {
        "id": "Zmp1JXKxk9Vb"
      },
      "outputs": [],
      "source": [
        "split_time = 1000\n",
        "time_train = time[:split_time]\n",
        "x_train = series[:split_time]\n",
        "time_valid = time[split_time:]\n",
        "x_valid = series[split_time:]"
      ]
    },
    {
      "cell_type": "code",
      "execution_count": 16,
      "metadata": {
        "id": "9fPenJpTtuDE"
      },
      "outputs": [],
      "source": [
        "class ResetStatesCallback(keras.callbacks.Callback):\n",
        "    def on_epoch_begin(self, epoch, logs):\n",
        "        self.model.reset_states()"
      ]
    },
    {
      "cell_type": "code",
      "source": [
        "def sequential_window_dataset(series, window_size):\n",
        "    series = tf.expand_dims(series, axis=-1)\n",
        "    ds = tf.data.Dataset.from_tensor_slices(series)\n",
        "    ds = ds.window(window_size + 1, shift=window_size, drop_remainder=True)\n",
        "    ds = ds.flat_map(lambda window: window.batch(window_size + 1))\n",
        "    ds = ds.map(lambda window: (window[:-1], window[1:]))\n",
        "    return ds.batch(1).prefetch(1)"
      ],
      "metadata": {
        "id": "bN0BvHkwIkPb"
      },
      "execution_count": 25,
      "outputs": []
    },
    {
      "cell_type": "markdown",
      "metadata": {
        "id": "EPjK0l9P8OJM"
      },
      "source": [
        "## LSTM RNN Forecasting"
      ]
    },
    {
      "cell_type": "code",
      "execution_count": 26,
      "metadata": {
        "id": "cSoUmW-x8OJN",
        "colab": {
          "base_uri": "https://localhost:8080/"
        },
        "outputId": "b25904ef-11ab-4763-cdcc-758e2e675b32"
      },
      "outputs": [
        {
          "output_type": "stream",
          "name": "stderr",
          "text": [
            "WARNING:absl:`lr` is deprecated, please use `learning_rate` instead, or use the legacy optimizer, e.g.,tf.keras.optimizers.legacy.SGD.\n"
          ]
        },
        {
          "output_type": "stream",
          "name": "stdout",
          "text": [
            "Epoch 1/100\n",
            "33/33 [==============================] - 4s 8ms/step - loss: 73.7553 - mae: 74.2552 - lr: 1.0000e-08\n",
            "Epoch 2/100\n",
            "33/33 [==============================] - 0s 7ms/step - loss: 65.0110 - mae: 65.5109 - lr: 1.0471e-08\n",
            "Epoch 3/100\n",
            "33/33 [==============================] - 0s 7ms/step - loss: 55.2596 - mae: 55.7585 - lr: 1.0965e-08\n",
            "Epoch 4/100\n",
            "33/33 [==============================] - 0s 7ms/step - loss: 45.2525 - mae: 45.7513 - lr: 1.1482e-08\n",
            "Epoch 5/100\n",
            "33/33 [==============================] - 0s 7ms/step - loss: 35.2523 - mae: 35.7516 - lr: 1.2023e-08\n",
            "Epoch 6/100\n",
            "33/33 [==============================] - 0s 8ms/step - loss: 25.4839 - mae: 25.9824 - lr: 1.2589e-08\n",
            "Epoch 7/100\n",
            "33/33 [==============================] - 0s 7ms/step - loss: 17.0782 - mae: 17.5734 - lr: 1.3183e-08\n",
            "Epoch 8/100\n",
            "33/33 [==============================] - 0s 7ms/step - loss: 12.7617 - mae: 13.2558 - lr: 1.3804e-08\n",
            "Epoch 9/100\n",
            "33/33 [==============================] - 0s 7ms/step - loss: 10.9397 - mae: 11.4330 - lr: 1.4454e-08\n",
            "Epoch 10/100\n",
            "33/33 [==============================] - 0s 7ms/step - loss: 10.3598 - mae: 10.8511 - lr: 1.5136e-08\n",
            "Epoch 11/100\n",
            "33/33 [==============================] - 0s 7ms/step - loss: 10.1594 - mae: 10.6481 - lr: 1.5849e-08\n",
            "Epoch 12/100\n",
            "33/33 [==============================] - 0s 7ms/step - loss: 9.9301 - mae: 10.4174 - lr: 1.6596e-08\n",
            "Epoch 13/100\n",
            "33/33 [==============================] - 0s 7ms/step - loss: 9.6705 - mae: 10.1594 - lr: 1.7378e-08\n",
            "Epoch 14/100\n",
            "33/33 [==============================] - 0s 7ms/step - loss: 9.4072 - mae: 9.8957 - lr: 1.8197e-08\n",
            "Epoch 15/100\n",
            "33/33 [==============================] - 0s 7ms/step - loss: 9.1459 - mae: 9.6310 - lr: 1.9055e-08\n",
            "Epoch 16/100\n",
            "33/33 [==============================] - 0s 7ms/step - loss: 8.8903 - mae: 9.3770 - lr: 1.9953e-08\n",
            "Epoch 17/100\n",
            "33/33 [==============================] - 0s 9ms/step - loss: 8.6399 - mae: 9.1273 - lr: 2.0893e-08\n",
            "Epoch 18/100\n",
            "33/33 [==============================] - 0s 11ms/step - loss: 8.3945 - mae: 8.8808 - lr: 2.1878e-08\n",
            "Epoch 19/100\n",
            "33/33 [==============================] - 0s 11ms/step - loss: 8.1528 - mae: 8.6406 - lr: 2.2909e-08\n",
            "Epoch 20/100\n",
            "33/33 [==============================] - 0s 11ms/step - loss: 7.9150 - mae: 8.4023 - lr: 2.3988e-08\n",
            "Epoch 21/100\n",
            "33/33 [==============================] - 0s 8ms/step - loss: 7.6867 - mae: 8.1725 - lr: 2.5119e-08\n",
            "Epoch 22/100\n",
            "33/33 [==============================] - 0s 7ms/step - loss: 7.4717 - mae: 7.9572 - lr: 2.6303e-08\n",
            "Epoch 23/100\n",
            "33/33 [==============================] - 0s 7ms/step - loss: 7.2705 - mae: 7.7573 - lr: 2.7542e-08\n",
            "Epoch 24/100\n",
            "33/33 [==============================] - 0s 7ms/step - loss: 7.0808 - mae: 7.5662 - lr: 2.8840e-08\n",
            "Epoch 25/100\n",
            "33/33 [==============================] - 0s 7ms/step - loss: 6.9001 - mae: 7.3851 - lr: 3.0200e-08\n",
            "Epoch 26/100\n",
            "33/33 [==============================] - 0s 8ms/step - loss: 6.7312 - mae: 7.2151 - lr: 3.1623e-08\n",
            "Epoch 27/100\n",
            "33/33 [==============================] - 0s 8ms/step - loss: 6.5790 - mae: 7.0633 - lr: 3.3113e-08\n",
            "Epoch 28/100\n",
            "33/33 [==============================] - 0s 8ms/step - loss: 6.4389 - mae: 6.9227 - lr: 3.4674e-08\n",
            "Epoch 29/100\n",
            "33/33 [==============================] - 0s 8ms/step - loss: 6.3149 - mae: 6.7967 - lr: 3.6308e-08\n",
            "Epoch 30/100\n",
            "33/33 [==============================] - 0s 8ms/step - loss: 6.2068 - mae: 6.6878 - lr: 3.8019e-08\n",
            "Epoch 31/100\n",
            "33/33 [==============================] - 0s 7ms/step - loss: 6.1136 - mae: 6.5916 - lr: 3.9811e-08\n",
            "Epoch 32/100\n",
            "33/33 [==============================] - 0s 8ms/step - loss: 6.0340 - mae: 6.5113 - lr: 4.1687e-08\n",
            "Epoch 33/100\n",
            "33/33 [==============================] - 0s 7ms/step - loss: 5.9686 - mae: 6.4442 - lr: 4.3652e-08\n",
            "Epoch 34/100\n",
            "33/33 [==============================] - 0s 8ms/step - loss: 5.9166 - mae: 6.3930 - lr: 4.5709e-08\n",
            "Epoch 35/100\n",
            "33/33 [==============================] - 0s 7ms/step - loss: 5.8750 - mae: 6.3518 - lr: 4.7863e-08\n",
            "Epoch 36/100\n",
            "33/33 [==============================] - 0s 7ms/step - loss: 5.8403 - mae: 6.3166 - lr: 5.0119e-08\n",
            "Epoch 37/100\n",
            "33/33 [==============================] - 0s 7ms/step - loss: 5.8101 - mae: 6.2860 - lr: 5.2481e-08\n",
            "Epoch 38/100\n",
            "33/33 [==============================] - 0s 7ms/step - loss: 5.7820 - mae: 6.2576 - lr: 5.4954e-08\n",
            "Epoch 39/100\n",
            "33/33 [==============================] - 0s 7ms/step - loss: 5.7548 - mae: 6.2304 - lr: 5.7544e-08\n",
            "Epoch 40/100\n",
            "33/33 [==============================] - 0s 8ms/step - loss: 5.7280 - mae: 6.2036 - lr: 6.0256e-08\n",
            "Epoch 41/100\n",
            "33/33 [==============================] - 0s 7ms/step - loss: 5.7011 - mae: 6.1764 - lr: 6.3096e-08\n",
            "Epoch 42/100\n",
            "33/33 [==============================] - 0s 7ms/step - loss: 5.6742 - mae: 6.1486 - lr: 6.6069e-08\n",
            "Epoch 43/100\n",
            "33/33 [==============================] - 0s 7ms/step - loss: 5.6475 - mae: 6.1219 - lr: 6.9183e-08\n",
            "Epoch 44/100\n",
            "33/33 [==============================] - 0s 8ms/step - loss: 5.6208 - mae: 6.0961 - lr: 7.2444e-08\n",
            "Epoch 45/100\n",
            "33/33 [==============================] - 0s 7ms/step - loss: 5.5943 - mae: 6.0704 - lr: 7.5858e-08\n",
            "Epoch 46/100\n",
            "33/33 [==============================] - 0s 7ms/step - loss: 5.5678 - mae: 6.0444 - lr: 7.9433e-08\n",
            "Epoch 47/100\n",
            "33/33 [==============================] - 0s 7ms/step - loss: 5.5416 - mae: 6.0183 - lr: 8.3176e-08\n",
            "Epoch 48/100\n",
            "33/33 [==============================] - 0s 7ms/step - loss: 5.5149 - mae: 5.9913 - lr: 8.7096e-08\n",
            "Epoch 49/100\n",
            "33/33 [==============================] - 0s 7ms/step - loss: 5.4870 - mae: 5.9632 - lr: 9.1201e-08\n",
            "Epoch 50/100\n",
            "33/33 [==============================] - 0s 7ms/step - loss: 5.4579 - mae: 5.9348 - lr: 9.5499e-08\n",
            "Epoch 51/100\n",
            "33/33 [==============================] - 0s 7ms/step - loss: 5.4278 - mae: 5.9051 - lr: 1.0000e-07\n",
            "Epoch 52/100\n",
            "33/33 [==============================] - 0s 7ms/step - loss: 5.3973 - mae: 5.8744 - lr: 1.0471e-07\n",
            "Epoch 53/100\n",
            "33/33 [==============================] - 0s 7ms/step - loss: 5.3669 - mae: 5.8446 - lr: 1.0965e-07\n",
            "Epoch 54/100\n",
            "33/33 [==============================] - 0s 7ms/step - loss: 5.3374 - mae: 5.8151 - lr: 1.1482e-07\n",
            "Epoch 55/100\n",
            "33/33 [==============================] - 0s 12ms/step - loss: 5.3088 - mae: 5.7844 - lr: 1.2023e-07\n",
            "Epoch 56/100\n",
            "33/33 [==============================] - 0s 10ms/step - loss: 5.2781 - mae: 5.7540 - lr: 1.2589e-07\n",
            "Epoch 57/100\n",
            "33/33 [==============================] - 0s 11ms/step - loss: 5.2493 - mae: 5.7259 - lr: 1.3183e-07\n",
            "Epoch 58/100\n",
            "33/33 [==============================] - 0s 10ms/step - loss: 5.2265 - mae: 5.7031 - lr: 1.3804e-07\n",
            "Epoch 59/100\n",
            "33/33 [==============================] - 0s 8ms/step - loss: 5.2051 - mae: 5.6814 - lr: 1.4454e-07\n",
            "Epoch 60/100\n",
            "33/33 [==============================] - 0s 7ms/step - loss: 5.1856 - mae: 5.6611 - lr: 1.5136e-07\n",
            "Epoch 61/100\n",
            "33/33 [==============================] - 0s 7ms/step - loss: 5.1703 - mae: 5.6463 - lr: 1.5849e-07\n",
            "Epoch 62/100\n",
            "33/33 [==============================] - 0s 7ms/step - loss: 5.1579 - mae: 5.6346 - lr: 1.6596e-07\n",
            "Epoch 63/100\n",
            "33/33 [==============================] - 0s 8ms/step - loss: 5.1475 - mae: 5.6247 - lr: 1.7378e-07\n",
            "Epoch 64/100\n",
            "33/33 [==============================] - 0s 8ms/step - loss: 5.1386 - mae: 5.6164 - lr: 1.8197e-07\n",
            "Epoch 65/100\n",
            "33/33 [==============================] - 0s 8ms/step - loss: 5.1319 - mae: 5.6104 - lr: 1.9055e-07\n",
            "Epoch 66/100\n",
            "33/33 [==============================] - 0s 7ms/step - loss: 5.1267 - mae: 5.6057 - lr: 1.9953e-07\n",
            "Epoch 67/100\n",
            "33/33 [==============================] - 0s 7ms/step - loss: 5.1230 - mae: 5.6025 - lr: 2.0893e-07\n",
            "Epoch 68/100\n",
            "33/33 [==============================] - 0s 7ms/step - loss: 5.1218 - mae: 5.6015 - lr: 2.1878e-07\n",
            "Epoch 69/100\n",
            "33/33 [==============================] - 0s 7ms/step - loss: 5.1235 - mae: 5.6028 - lr: 2.2909e-07\n",
            "Epoch 70/100\n",
            "33/33 [==============================] - 0s 7ms/step - loss: 5.1282 - mae: 5.6069 - lr: 2.3988e-07\n",
            "Epoch 71/100\n",
            "33/33 [==============================] - 0s 7ms/step - loss: 5.1391 - mae: 5.6177 - lr: 2.5119e-07\n",
            "Epoch 72/100\n",
            "33/33 [==============================] - 0s 7ms/step - loss: 5.1618 - mae: 5.6408 - lr: 2.6303e-07\n",
            "Epoch 73/100\n",
            "33/33 [==============================] - 0s 7ms/step - loss: 5.2000 - mae: 5.6796 - lr: 2.7542e-07\n",
            "Epoch 74/100\n",
            "33/33 [==============================] - 0s 7ms/step - loss: 5.2595 - mae: 5.7413 - lr: 2.8840e-07\n",
            "Epoch 75/100\n",
            "33/33 [==============================] - 0s 7ms/step - loss: 5.3340 - mae: 5.8161 - lr: 3.0200e-07\n",
            "Epoch 76/100\n",
            "33/33 [==============================] - 0s 8ms/step - loss: 5.4272 - mae: 5.9075 - lr: 3.1623e-07\n",
            "Epoch 77/100\n",
            "33/33 [==============================] - 0s 7ms/step - loss: 5.5505 - mae: 6.0273 - lr: 3.3113e-07\n",
            "Epoch 78/100\n",
            "33/33 [==============================] - 0s 7ms/step - loss: 5.7117 - mae: 6.1889 - lr: 3.4674e-07\n",
            "Epoch 79/100\n",
            "33/33 [==============================] - 0s 7ms/step - loss: 5.8229 - mae: 6.3027 - lr: 3.6308e-07\n",
            "Epoch 80/100\n",
            "33/33 [==============================] - 0s 8ms/step - loss: 5.7906 - mae: 6.2688 - lr: 3.8019e-07\n",
            "Epoch 81/100\n",
            "33/33 [==============================] - 0s 7ms/step - loss: 5.6716 - mae: 6.1467 - lr: 3.9811e-07\n",
            "Epoch 82/100\n",
            "33/33 [==============================] - 0s 7ms/step - loss: 5.5182 - mae: 5.9977 - lr: 4.1687e-07\n",
            "Epoch 83/100\n",
            "33/33 [==============================] - 0s 7ms/step - loss: 5.3589 - mae: 5.8426 - lr: 4.3652e-07\n",
            "Epoch 84/100\n",
            "33/33 [==============================] - 0s 8ms/step - loss: 5.2801 - mae: 5.7606 - lr: 4.5709e-07\n",
            "Epoch 85/100\n",
            "33/33 [==============================] - 0s 7ms/step - loss: 5.2749 - mae: 5.7536 - lr: 4.7863e-07\n",
            "Epoch 86/100\n",
            "33/33 [==============================] - 0s 8ms/step - loss: 5.2667 - mae: 5.7446 - lr: 5.0119e-07\n",
            "Epoch 87/100\n",
            "33/33 [==============================] - 0s 7ms/step - loss: 5.2300 - mae: 5.7059 - lr: 5.2481e-07\n",
            "Epoch 88/100\n",
            "33/33 [==============================] - 0s 7ms/step - loss: 5.2247 - mae: 5.7004 - lr: 5.4954e-07\n",
            "Epoch 89/100\n",
            "33/33 [==============================] - 0s 7ms/step - loss: 5.2580 - mae: 5.7331 - lr: 5.7544e-07\n",
            "Epoch 90/100\n",
            "33/33 [==============================] - 0s 7ms/step - loss: 5.2577 - mae: 5.7332 - lr: 6.0256e-07\n",
            "Epoch 91/100\n",
            "33/33 [==============================] - 0s 7ms/step - loss: 5.2042 - mae: 5.6812 - lr: 6.3096e-07\n",
            "Epoch 92/100\n",
            "33/33 [==============================] - 0s 7ms/step - loss: 5.1526 - mae: 5.6282 - lr: 6.6069e-07\n",
            "Epoch 93/100\n",
            "33/33 [==============================] - 0s 10ms/step - loss: 5.1486 - mae: 5.6244 - lr: 6.9183e-07\n",
            "Epoch 94/100\n",
            "33/33 [==============================] - 0s 11ms/step - loss: 5.1277 - mae: 5.6043 - lr: 7.2444e-07\n",
            "Epoch 95/100\n",
            "33/33 [==============================] - 0s 11ms/step - loss: 5.0834 - mae: 5.5588 - lr: 7.5858e-07\n",
            "Epoch 96/100\n",
            "33/33 [==============================] - 0s 9ms/step - loss: 5.0413 - mae: 5.5161 - lr: 7.9433e-07\n",
            "Epoch 97/100\n",
            "33/33 [==============================] - 0s 8ms/step - loss: 5.0173 - mae: 5.4925 - lr: 8.3176e-07\n",
            "Epoch 98/100\n",
            "33/33 [==============================] - 0s 7ms/step - loss: 4.9888 - mae: 5.4638 - lr: 8.7096e-07\n",
            "Epoch 99/100\n",
            "33/33 [==============================] - 0s 7ms/step - loss: 4.9468 - mae: 5.4195 - lr: 9.1201e-07\n",
            "Epoch 100/100\n",
            "33/33 [==============================] - 0s 8ms/step - loss: 4.9407 - mae: 5.4154 - lr: 9.5499e-07\n"
          ]
        }
      ],
      "source": [
        "keras.backend.clear_session()\n",
        "tf.random.set_seed(42)\n",
        "np.random.seed(42)\n",
        "\n",
        "window_size = 30\n",
        "train_set = sequential_window_dataset(x_train, window_size)\n",
        "\n",
        "model = keras.models.Sequential([\n",
        "  keras.layers.LSTM(100, return_sequences=True, stateful=True,\n",
        "                    batch_input_shape=[1, None, 1]),\n",
        "  keras.layers.LSTM(100, return_sequences=True, stateful=True),\n",
        "  keras.layers.Dense(1),\n",
        "  keras.layers.Lambda(lambda x: x * 200.0)\n",
        "])\n",
        "lr_schedule = keras.callbacks.LearningRateScheduler(\n",
        "    lambda epoch: 1e-8 * 10**(epoch / 50))\n",
        "reset_states = ResetStatesCallback()\n",
        "optimizer = keras.optimizers.SGD(lr=5e-8, momentum=0.9)\n",
        "model.compile(loss=keras.losses.Huber(),\n",
        "              optimizer=optimizer,\n",
        "              metrics=[\"mae\"])\n",
        "history = model.fit(train_set, epochs=100,\n",
        "                    callbacks=[lr_schedule, reset_states])"
      ]
    },
    {
      "cell_type": "code",
      "execution_count": 27,
      "metadata": {
        "id": "KA0GM9sQ8OJO",
        "colab": {
          "base_uri": "https://localhost:8080/",
          "height": 291
        },
        "outputId": "40bf6230-512d-493e-8952-7c75b23c33ff"
      },
      "outputs": [
        {
          "output_type": "execute_result",
          "data": {
            "text/plain": [
              "(1e-08, 0.0001, 0.0, 30.0)"
            ]
          },
          "metadata": {},
          "execution_count": 27
        },
        {
          "output_type": "display_data",
          "data": {
            "text/plain": [
              "<Figure size 432x288 with 1 Axes>"
            ],
            "image/png": "[encoded data removed]"
          },
          "metadata": {
            "needs_background": "light"
          }
        }
      ],
      "source": [
        "plt.semilogx(history.history[\"lr\"], history.history[\"loss\"])\n",
        "plt.axis([1e-8, 1e-4, 0, 30])"
      ]
    },
    {
      "cell_type": "code",
      "execution_count": 31,
      "metadata": {
        "id": "hiHR5pPL8OJP",
        "colab": {
          "base_uri": "https://localhost:8080/"
        },
        "outputId": "ea20e780-9c7c-4566-9265-858811bf1516"
      },
      "outputs": [
        {
          "output_type": "stream",
          "name": "stderr",
          "text": [
            "WARNING:absl:`lr` is deprecated, please use `learning_rate` instead, or use the legacy optimizer, e.g.,tf.keras.optimizers.legacy.Adam.\n"
          ]
        },
        {
          "output_type": "stream",
          "name": "stdout",
          "text": [
            "Epoch 1/500\n",
            "33/33 [==============================] - 38s 42ms/step - loss: 17.4757 - mae: 17.9652 - val_loss: 11.3031 - val_mae: 11.7942\n",
            "Epoch 2/500\n",
            "33/33 [==============================] - 0s 14ms/step - loss: 10.7977 - mae: 11.2874 - val_loss: 9.1612 - val_mae: 9.6508\n",
            "Epoch 3/500\n",
            "33/33 [==============================] - 0s 11ms/step - loss: 9.3668 - mae: 9.8561 - val_loss: 13.9041 - val_mae: 14.3997\n",
            "Epoch 4/500\n",
            "33/33 [==============================] - 0s 10ms/step - loss: 7.0871 - mae: 7.5713 - val_loss: 11.7216 - val_mae: 12.2155\n",
            "Epoch 5/500\n",
            "33/33 [==============================] - 0s 11ms/step - loss: 7.6138 - mae: 8.0988 - val_loss: 9.2908 - val_mae: 9.7822\n",
            "Epoch 6/500\n",
            "33/33 [==============================] - 0s 12ms/step - loss: 7.0510 - mae: 7.5424 - val_loss: 8.5104 - val_mae: 8.9971\n",
            "Epoch 7/500\n",
            "33/33 [==============================] - 0s 11ms/step - loss: 6.6356 - mae: 7.1187 - val_loss: 14.3923 - val_mae: 14.8899\n",
            "Epoch 8/500\n",
            "33/33 [==============================] - 0s 10ms/step - loss: 5.7416 - mae: 6.2204 - val_loss: 10.5194 - val_mae: 11.0086\n",
            "Epoch 9/500\n",
            "33/33 [==============================] - 0s 12ms/step - loss: 6.0749 - mae: 6.5577 - val_loss: 8.2126 - val_mae: 8.7031\n",
            "Epoch 10/500\n",
            "33/33 [==============================] - 0s 11ms/step - loss: 5.3918 - mae: 5.8713 - val_loss: 6.7860 - val_mae: 7.2730\n",
            "Epoch 11/500\n",
            "33/33 [==============================] - 0s 11ms/step - loss: 5.5886 - mae: 6.0687 - val_loss: 8.1772 - val_mae: 8.6673\n",
            "Epoch 12/500\n",
            "33/33 [==============================] - 0s 11ms/step - loss: 5.7801 - mae: 6.2642 - val_loss: 8.2678 - val_mae: 8.7561\n",
            "Epoch 13/500\n",
            "33/33 [==============================] - 0s 13ms/step - loss: 6.0470 - mae: 6.5307 - val_loss: 10.5498 - val_mae: 11.0406\n",
            "Epoch 14/500\n",
            "33/33 [==============================] - 0s 13ms/step - loss: 5.2405 - mae: 5.7174 - val_loss: 9.3578 - val_mae: 9.8485\n",
            "Epoch 15/500\n",
            "33/33 [==============================] - 1s 35ms/step - loss: 5.1660 - mae: 5.6450 - val_loss: 7.5415 - val_mae: 8.0277\n",
            "Epoch 16/500\n",
            "33/33 [==============================] - 1s 30ms/step - loss: 5.8591 - mae: 6.3405 - val_loss: 12.2939 - val_mae: 12.7908\n",
            "Epoch 17/500\n",
            "33/33 [==============================] - 1s 18ms/step - loss: 5.1421 - mae: 5.6205 - val_loss: 9.7643 - val_mae: 10.2540\n",
            "Epoch 18/500\n",
            "33/33 [==============================] - 0s 11ms/step - loss: 4.8113 - mae: 5.2898 - val_loss: 8.5348 - val_mae: 9.0230\n",
            "Epoch 19/500\n",
            "33/33 [==============================] - 0s 11ms/step - loss: 4.9228 - mae: 5.3994 - val_loss: 9.3179 - val_mae: 9.8068\n",
            "Epoch 20/500\n",
            "33/33 [==============================] - 0s 11ms/step - loss: 4.9445 - mae: 5.4210 - val_loss: 8.2897 - val_mae: 8.7748\n",
            "Epoch 21/500\n",
            "33/33 [==============================] - 0s 11ms/step - loss: 4.7718 - mae: 5.2470 - val_loss: 8.1528 - val_mae: 8.6427\n",
            "Epoch 22/500\n",
            "33/33 [==============================] - 0s 11ms/step - loss: 5.0545 - mae: 5.5350 - val_loss: 8.3997 - val_mae: 8.8880\n",
            "Epoch 23/500\n",
            "33/33 [==============================] - 0s 11ms/step - loss: 5.5047 - mae: 5.9871 - val_loss: 12.4157 - val_mae: 12.9092\n",
            "Epoch 24/500\n",
            "33/33 [==============================] - 0s 11ms/step - loss: 5.2516 - mae: 5.7330 - val_loss: 11.9922 - val_mae: 12.4819\n",
            "Epoch 25/500\n",
            "33/33 [==============================] - 0s 13ms/step - loss: 4.7183 - mae: 5.1969 - val_loss: 10.0540 - val_mae: 10.5447\n",
            "Epoch 26/500\n",
            "33/33 [==============================] - 0s 11ms/step - loss: 4.6787 - mae: 5.1567 - val_loss: 8.7117 - val_mae: 9.1978\n",
            "Epoch 27/500\n",
            "33/33 [==============================] - 0s 11ms/step - loss: 5.0913 - mae: 5.5702 - val_loss: 11.1535 - val_mae: 11.6446\n",
            "Epoch 28/500\n",
            "33/33 [==============================] - 0s 11ms/step - loss: 5.0279 - mae: 5.5038 - val_loss: 10.0318 - val_mae: 10.5255\n",
            "Epoch 29/500\n",
            "33/33 [==============================] - 0s 10ms/step - loss: 4.6695 - mae: 5.1494 - val_loss: 10.1203 - val_mae: 10.6120\n",
            "Epoch 30/500\n",
            "33/33 [==============================] - 0s 10ms/step - loss: 4.5550 - mae: 5.0255 - val_loss: 8.9522 - val_mae: 9.4425\n",
            "Epoch 31/500\n",
            "33/33 [==============================] - 0s 11ms/step - loss: 5.5155 - mae: 5.9887 - val_loss: 11.8600 - val_mae: 12.3527\n",
            "Epoch 32/500\n",
            "33/33 [==============================] - 0s 10ms/step - loss: 6.4355 - mae: 6.9214 - val_loss: 12.1269 - val_mae: 12.6175\n",
            "Epoch 33/500\n",
            "33/33 [==============================] - 0s 11ms/step - loss: 5.4788 - mae: 5.9601 - val_loss: 10.6811 - val_mae: 11.1723\n",
            "Epoch 34/500\n",
            "33/33 [==============================] - 0s 10ms/step - loss: 5.3243 - mae: 5.8067 - val_loss: 10.9587 - val_mae: 11.4502\n",
            "Epoch 35/500\n",
            "33/33 [==============================] - 0s 11ms/step - loss: 5.0677 - mae: 5.5491 - val_loss: 11.5892 - val_mae: 12.0795\n",
            "Epoch 36/500\n",
            "33/33 [==============================] - 0s 13ms/step - loss: 5.1263 - mae: 5.6080 - val_loss: 10.4117 - val_mae: 10.9032\n",
            "Epoch 37/500\n",
            "33/33 [==============================] - 1s 17ms/step - loss: 5.1844 - mae: 5.6666 - val_loss: 12.2542 - val_mae: 12.7491\n",
            "Epoch 38/500\n",
            "33/33 [==============================] - 1s 17ms/step - loss: 5.1616 - mae: 5.6409 - val_loss: 11.0750 - val_mae: 11.5674\n",
            "Epoch 39/500\n",
            "33/33 [==============================] - 1s 17ms/step - loss: 5.2910 - mae: 5.7696 - val_loss: 11.6185 - val_mae: 12.1116\n",
            "Epoch 40/500\n",
            "33/33 [==============================] - 0s 11ms/step - loss: 5.3742 - mae: 5.8554 - val_loss: 10.5546 - val_mae: 11.0468\n",
            "Epoch 41/500\n",
            "33/33 [==============================] - 0s 11ms/step - loss: 5.5312 - mae: 6.0118 - val_loss: 10.3291 - val_mae: 10.8212\n",
            "Epoch 42/500\n",
            "33/33 [==============================] - 0s 11ms/step - loss: 5.8066 - mae: 6.2820 - val_loss: 9.4762 - val_mae: 9.9661\n",
            "Epoch 43/500\n",
            "33/33 [==============================] - 0s 13ms/step - loss: 7.3077 - mae: 7.7947 - val_loss: 8.3582 - val_mae: 8.8458\n",
            "Epoch 44/500\n",
            "33/33 [==============================] - 0s 13ms/step - loss: 6.3838 - mae: 6.8691 - val_loss: 7.7219 - val_mae: 8.2074\n",
            "Epoch 45/500\n",
            "33/33 [==============================] - 0s 11ms/step - loss: 6.2910 - mae: 6.7754 - val_loss: 7.7410 - val_mae: 8.2294\n",
            "Epoch 46/500\n",
            "33/33 [==============================] - 0s 11ms/step - loss: 6.2626 - mae: 6.7411 - val_loss: 7.4218 - val_mae: 7.9033\n",
            "Epoch 47/500\n",
            "33/33 [==============================] - 0s 11ms/step - loss: 5.5543 - mae: 6.0332 - val_loss: 7.5999 - val_mae: 8.0865\n",
            "Epoch 48/500\n",
            "33/33 [==============================] - 0s 11ms/step - loss: 5.9993 - mae: 6.4800 - val_loss: 6.8842 - val_mae: 7.3679\n",
            "Epoch 49/500\n",
            "33/33 [==============================] - 0s 12ms/step - loss: 5.0718 - mae: 5.5479 - val_loss: 6.7457 - val_mae: 7.2295\n",
            "Epoch 50/500\n",
            "33/33 [==============================] - 0s 11ms/step - loss: 4.6463 - mae: 5.1252 - val_loss: 7.9134 - val_mae: 8.4031\n",
            "Epoch 51/500\n",
            "33/33 [==============================] - 0s 14ms/step - loss: 4.3115 - mae: 4.7884 - val_loss: 8.0278 - val_mae: 8.5195\n",
            "Epoch 52/500\n",
            "33/33 [==============================] - 0s 12ms/step - loss: 4.1389 - mae: 4.6138 - val_loss: 7.7336 - val_mae: 8.2232\n",
            "Epoch 53/500\n",
            "33/33 [==============================] - 0s 10ms/step - loss: 4.3207 - mae: 4.7985 - val_loss: 8.4751 - val_mae: 8.9657\n",
            "Epoch 54/500\n",
            "33/33 [==============================] - 0s 10ms/step - loss: 4.3580 - mae: 4.8353 - val_loss: 8.3631 - val_mae: 8.8519\n",
            "Epoch 55/500\n",
            "33/33 [==============================] - 0s 13ms/step - loss: 4.2295 - mae: 4.7050 - val_loss: 8.3848 - val_mae: 8.8747\n",
            "Epoch 56/500\n",
            "33/33 [==============================] - 0s 10ms/step - loss: 4.1478 - mae: 4.6197 - val_loss: 8.1669 - val_mae: 8.6580\n",
            "Epoch 57/500\n",
            "33/33 [==============================] - 0s 11ms/step - loss: 4.2415 - mae: 4.7168 - val_loss: 8.6548 - val_mae: 9.1449\n",
            "Epoch 58/500\n",
            "33/33 [==============================] - 1s 16ms/step - loss: 4.2365 - mae: 4.7124 - val_loss: 8.4317 - val_mae: 8.9229\n",
            "Epoch 59/500\n",
            "33/33 [==============================] - 1s 16ms/step - loss: 4.0255 - mae: 4.4969 - val_loss: 7.5260 - val_mae: 8.0148\n",
            "Epoch 60/500\n",
            "33/33 [==============================] - 1s 17ms/step - loss: 4.0860 - mae: 4.5571 - val_loss: 6.9611 - val_mae: 7.4398\n",
            "Epoch 61/500\n",
            "33/33 [==============================] - 1s 18ms/step - loss: 4.4626 - mae: 4.9393 - val_loss: 9.1282 - val_mae: 9.6211\n",
            "Epoch 62/500\n",
            "33/33 [==============================] - 0s 11ms/step - loss: 4.2137 - mae: 4.6892 - val_loss: 8.6032 - val_mae: 9.0930\n",
            "Epoch 63/500\n",
            "33/33 [==============================] - 0s 11ms/step - loss: 3.9537 - mae: 4.4298 - val_loss: 7.2781 - val_mae: 7.7657\n",
            "Epoch 64/500\n",
            "33/33 [==============================] - 0s 14ms/step - loss: 4.2266 - mae: 4.7015 - val_loss: 7.8250 - val_mae: 8.3136\n",
            "Epoch 65/500\n",
            "33/33 [==============================] - 0s 13ms/step - loss: 4.1803 - mae: 4.6545 - val_loss: 7.6944 - val_mae: 8.1835\n",
            "Epoch 66/500\n",
            "33/33 [==============================] - 0s 11ms/step - loss: 4.0662 - mae: 4.5369 - val_loss: 7.4375 - val_mae: 7.9272\n",
            "Epoch 67/500\n",
            "33/33 [==============================] - 0s 14ms/step - loss: 4.1575 - mae: 4.6318 - val_loss: 7.6392 - val_mae: 8.1290\n",
            "Epoch 68/500\n",
            "33/33 [==============================] - 0s 12ms/step - loss: 3.9257 - mae: 4.4024 - val_loss: 6.2821 - val_mae: 6.7651\n",
            "Epoch 69/500\n",
            "33/33 [==============================] - 0s 11ms/step - loss: 4.1580 - mae: 4.6269 - val_loss: 7.7624 - val_mae: 8.2493\n",
            "Epoch 70/500\n",
            "33/33 [==============================] - 0s 11ms/step - loss: 3.9282 - mae: 4.3992 - val_loss: 6.7014 - val_mae: 7.1821\n",
            "Epoch 71/500\n",
            "33/33 [==============================] - 0s 13ms/step - loss: 4.6810 - mae: 5.1599 - val_loss: 10.1281 - val_mae: 10.6211\n",
            "Epoch 72/500\n",
            "33/33 [==============================] - 0s 12ms/step - loss: 4.1929 - mae: 4.6632 - val_loss: 7.2153 - val_mae: 7.6985\n",
            "Epoch 73/500\n",
            "33/33 [==============================] - 0s 12ms/step - loss: 4.0048 - mae: 4.4779 - val_loss: 5.9618 - val_mae: 6.4484\n",
            "Epoch 74/500\n",
            "33/33 [==============================] - 0s 12ms/step - loss: 4.8789 - mae: 5.3571 - val_loss: 11.6577 - val_mae: 12.1524\n",
            "Epoch 75/500\n",
            "33/33 [==============================] - 0s 12ms/step - loss: 4.4078 - mae: 4.8865 - val_loss: 9.7654 - val_mae: 10.2574\n",
            "Epoch 76/500\n",
            "33/33 [==============================] - 0s 11ms/step - loss: 4.1729 - mae: 4.6503 - val_loss: 6.7499 - val_mae: 7.2323\n",
            "Epoch 77/500\n",
            "33/33 [==============================] - 0s 11ms/step - loss: 4.9983 - mae: 5.4750 - val_loss: 11.9963 - val_mae: 12.4898\n",
            "Epoch 78/500\n",
            "33/33 [==============================] - 0s 11ms/step - loss: 5.6269 - mae: 6.1073 - val_loss: 8.5926 - val_mae: 9.0770\n",
            "Epoch 79/500\n",
            "33/33 [==============================] - 0s 11ms/step - loss: 5.7220 - mae: 6.1997 - val_loss: 8.1235 - val_mae: 8.6104\n",
            "Epoch 80/500\n",
            "33/33 [==============================] - 0s 11ms/step - loss: 5.9508 - mae: 6.4356 - val_loss: 8.7024 - val_mae: 9.1891\n",
            "Epoch 81/500\n",
            "33/33 [==============================] - 0s 11ms/step - loss: 5.6905 - mae: 6.1715 - val_loss: 7.5662 - val_mae: 8.0507\n",
            "Epoch 82/500\n",
            "33/33 [==============================] - 1s 17ms/step - loss: 6.1004 - mae: 6.5840 - val_loss: 7.2980 - val_mae: 7.7864\n",
            "Epoch 83/500\n",
            "33/33 [==============================] - 1s 17ms/step - loss: 5.7238 - mae: 6.2075 - val_loss: 6.5629 - val_mae: 7.0497\n",
            "Epoch 84/500\n",
            "33/33 [==============================] - 1s 17ms/step - loss: 5.6275 - mae: 6.1068 - val_loss: 6.7634 - val_mae: 7.2502\n",
            "Epoch 85/500\n",
            "33/33 [==============================] - 1s 15ms/step - loss: 5.0032 - mae: 5.4771 - val_loss: 5.7689 - val_mae: 6.2481\n",
            "Epoch 86/500\n",
            "33/33 [==============================] - 0s 14ms/step - loss: 4.6168 - mae: 5.0958 - val_loss: 5.8278 - val_mae: 6.3017\n",
            "Epoch 87/500\n",
            "33/33 [==============================] - 0s 12ms/step - loss: 4.1295 - mae: 4.6076 - val_loss: 5.6795 - val_mae: 6.1648\n",
            "Epoch 88/500\n",
            "33/33 [==============================] - 0s 12ms/step - loss: 3.9202 - mae: 4.3942 - val_loss: 5.3250 - val_mae: 5.8015\n",
            "Epoch 89/500\n",
            "33/33 [==============================] - 0s 12ms/step - loss: 3.9949 - mae: 4.4658 - val_loss: 5.0950 - val_mae: 5.5727\n",
            "Epoch 90/500\n",
            "33/33 [==============================] - 0s 13ms/step - loss: 3.9563 - mae: 4.4298 - val_loss: 5.7718 - val_mae: 6.2586\n",
            "Epoch 91/500\n",
            "33/33 [==============================] - 0s 11ms/step - loss: 3.8942 - mae: 4.3663 - val_loss: 5.1236 - val_mae: 5.6031\n",
            "Epoch 92/500\n",
            "33/33 [==============================] - 0s 14ms/step - loss: 3.8901 - mae: 4.3679 - val_loss: 5.1371 - val_mae: 5.6144\n",
            "Epoch 93/500\n",
            "33/33 [==============================] - 0s 14ms/step - loss: 3.8891 - mae: 4.3639 - val_loss: 5.1399 - val_mae: 5.6160\n",
            "Epoch 94/500\n",
            "33/33 [==============================] - 0s 14ms/step - loss: 3.8851 - mae: 4.3517 - val_loss: 5.3953 - val_mae: 5.8733\n",
            "Epoch 95/500\n",
            "33/33 [==============================] - 0s 11ms/step - loss: 3.9483 - mae: 4.4179 - val_loss: 5.9058 - val_mae: 6.3895\n",
            "Epoch 96/500\n",
            "33/33 [==============================] - 0s 12ms/step - loss: 3.8927 - mae: 4.3696 - val_loss: 5.0800 - val_mae: 5.5675\n",
            "Epoch 97/500\n",
            "33/33 [==============================] - 0s 11ms/step - loss: 3.9147 - mae: 4.3890 - val_loss: 5.4838 - val_mae: 5.9662\n",
            "Epoch 98/500\n",
            "33/33 [==============================] - 0s 11ms/step - loss: 3.8232 - mae: 4.2957 - val_loss: 5.1980 - val_mae: 5.6813\n",
            "Epoch 99/500\n",
            "33/33 [==============================] - 0s 14ms/step - loss: 3.9332 - mae: 4.4026 - val_loss: 5.4135 - val_mae: 5.8929\n",
            "Epoch 100/500\n",
            "33/33 [==============================] - 0s 11ms/step - loss: 3.9159 - mae: 4.3876 - val_loss: 5.8661 - val_mae: 6.3501\n",
            "Epoch 101/500\n",
            "33/33 [==============================] - 0s 14ms/step - loss: 3.7882 - mae: 4.2609 - val_loss: 5.1528 - val_mae: 5.6353\n",
            "Epoch 102/500\n",
            "33/33 [==============================] - 0s 11ms/step - loss: 3.9544 - mae: 4.4313 - val_loss: 5.6035 - val_mae: 6.0856\n",
            "Epoch 103/500\n",
            "33/33 [==============================] - 0s 11ms/step - loss: 3.9525 - mae: 4.4266 - val_loss: 5.2557 - val_mae: 5.7431\n",
            "Epoch 104/500\n",
            "33/33 [==============================] - 1s 17ms/step - loss: 4.0312 - mae: 4.5071 - val_loss: 5.7522 - val_mae: 6.2362\n",
            "Epoch 105/500\n",
            "33/33 [==============================] - 1s 17ms/step - loss: 4.0762 - mae: 4.5503 - val_loss: 7.0588 - val_mae: 7.5448\n",
            "Epoch 106/500\n",
            "33/33 [==============================] - 1s 15ms/step - loss: 4.0886 - mae: 4.5612 - val_loss: 5.5516 - val_mae: 6.0350\n",
            "Epoch 107/500\n",
            "33/33 [==============================] - 0s 15ms/step - loss: 4.0524 - mae: 4.5240 - val_loss: 5.7252 - val_mae: 6.2110\n",
            "Epoch 108/500\n",
            "33/33 [==============================] - 0s 11ms/step - loss: 4.0958 - mae: 4.5726 - val_loss: 5.8638 - val_mae: 6.3431\n",
            "Epoch 109/500\n",
            "33/33 [==============================] - 0s 11ms/step - loss: 3.8172 - mae: 4.2857 - val_loss: 5.4699 - val_mae: 5.9496\n",
            "Epoch 110/500\n",
            "33/33 [==============================] - 0s 11ms/step - loss: 3.9387 - mae: 4.4109 - val_loss: 5.7366 - val_mae: 6.2117\n",
            "Epoch 111/500\n",
            "33/33 [==============================] - 0s 11ms/step - loss: 4.0353 - mae: 4.5087 - val_loss: 5.7182 - val_mae: 6.1996\n",
            "Epoch 112/500\n",
            "33/33 [==============================] - 0s 11ms/step - loss: 3.9053 - mae: 4.3722 - val_loss: 5.5363 - val_mae: 6.0217\n",
            "Epoch 113/500\n",
            "33/33 [==============================] - 0s 11ms/step - loss: 3.7863 - mae: 4.2574 - val_loss: 5.8476 - val_mae: 6.3270\n",
            "Epoch 114/500\n",
            "33/33 [==============================] - 0s 11ms/step - loss: 3.7556 - mae: 4.2266 - val_loss: 5.6582 - val_mae: 6.1402\n",
            "Epoch 115/500\n",
            "33/33 [==============================] - 0s 13ms/step - loss: 3.9198 - mae: 4.3924 - val_loss: 6.7067 - val_mae: 7.1899\n",
            "Epoch 116/500\n",
            "33/33 [==============================] - 0s 11ms/step - loss: 3.8591 - mae: 4.3318 - val_loss: 5.6610 - val_mae: 6.1406\n",
            "Epoch 117/500\n",
            "33/33 [==============================] - 0s 11ms/step - loss: 4.1880 - mae: 4.6586 - val_loss: 9.1489 - val_mae: 9.6387\n",
            "Epoch 118/500\n",
            "33/33 [==============================] - 0s 11ms/step - loss: 3.7686 - mae: 4.2371 - val_loss: 5.8878 - val_mae: 6.3657\n",
            "Epoch 119/500\n",
            "33/33 [==============================] - 0s 11ms/step - loss: 3.7326 - mae: 4.2028 - val_loss: 6.0343 - val_mae: 6.5118\n",
            "Epoch 120/500\n",
            "33/33 [==============================] - 0s 11ms/step - loss: 4.3452 - mae: 4.8168 - val_loss: 9.3434 - val_mae: 9.8369\n",
            "Epoch 121/500\n",
            "33/33 [==============================] - 0s 11ms/step - loss: 3.8033 - mae: 4.2741 - val_loss: 6.6388 - val_mae: 7.1254\n",
            "Epoch 122/500\n",
            "33/33 [==============================] - 0s 11ms/step - loss: 3.9923 - mae: 4.4718 - val_loss: 5.9719 - val_mae: 6.4525\n",
            "Epoch 123/500\n",
            "33/33 [==============================] - 0s 11ms/step - loss: 4.3393 - mae: 4.8110 - val_loss: 9.6070 - val_mae: 10.0968\n",
            "Epoch 124/500\n",
            "33/33 [==============================] - 0s 11ms/step - loss: 3.6425 - mae: 4.1114 - val_loss: 7.0638 - val_mae: 7.5453\n",
            "Epoch 125/500\n",
            "33/33 [==============================] - 0s 11ms/step - loss: 3.7319 - mae: 4.1977 - val_loss: 6.5620 - val_mae: 7.0478\n",
            "Epoch 126/500\n",
            "33/33 [==============================] - 0s 10ms/step - loss: 4.3249 - mae: 4.8004 - val_loss: 10.7835 - val_mae: 11.2738\n",
            "Epoch 127/500\n",
            "33/33 [==============================] - 0s 11ms/step - loss: 3.7796 - mae: 4.2448 - val_loss: 6.7252 - val_mae: 7.2086\n",
            "Epoch 128/500\n",
            "33/33 [==============================] - 1s 17ms/step - loss: 3.9905 - mae: 4.4656 - val_loss: 6.8899 - val_mae: 7.3704\n",
            "Epoch 129/500\n",
            "33/33 [==============================] - 1s 16ms/step - loss: 4.7071 - mae: 5.1855 - val_loss: 11.8683 - val_mae: 12.3583\n",
            "Epoch 130/500\n",
            "33/33 [==============================] - 1s 18ms/step - loss: 4.9048 - mae: 5.3861 - val_loss: 8.2522 - val_mae: 8.7405\n",
            "Epoch 131/500\n",
            "33/33 [==============================] - 0s 13ms/step - loss: 4.5294 - mae: 5.0092 - val_loss: 8.9439 - val_mae: 9.4365\n",
            "Epoch 132/500\n",
            "33/33 [==============================] - 0s 11ms/step - loss: 4.0399 - mae: 4.5135 - val_loss: 9.5207 - val_mae: 10.0131\n",
            "Epoch 133/500\n",
            "33/33 [==============================] - 0s 11ms/step - loss: 3.8223 - mae: 4.2910 - val_loss: 7.8296 - val_mae: 8.3185\n",
            "Epoch 134/500\n",
            "33/33 [==============================] - 0s 12ms/step - loss: 3.8974 - mae: 4.3743 - val_loss: 8.2398 - val_mae: 8.7289\n",
            "Epoch 135/500\n",
            "33/33 [==============================] - 0s 13ms/step - loss: 3.8442 - mae: 4.3172 - val_loss: 8.9636 - val_mae: 9.4512\n",
            "Epoch 136/500\n",
            "33/33 [==============================] - 0s 11ms/step - loss: 3.6992 - mae: 4.1647 - val_loss: 7.6829 - val_mae: 8.1714\n",
            "Epoch 137/500\n",
            "33/33 [==============================] - 0s 11ms/step - loss: 3.5952 - mae: 4.0663 - val_loss: 6.0964 - val_mae: 6.5775\n",
            "Epoch 138/500\n",
            "33/33 [==============================] - 0s 11ms/step - loss: 4.0582 - mae: 4.5295 - val_loss: 8.9118 - val_mae: 9.3965\n",
            "Epoch 139/500\n",
            "33/33 [==============================] - 0s 11ms/step - loss: 3.6071 - mae: 4.0817 - val_loss: 6.2930 - val_mae: 6.7726\n",
            "Epoch 140/500\n",
            "33/33 [==============================] - 0s 11ms/step - loss: 3.6156 - mae: 4.0812 - val_loss: 7.4006 - val_mae: 7.8889\n",
            "Epoch 141/500\n",
            "33/33 [==============================] - 0s 11ms/step - loss: 3.5730 - mae: 4.0401 - val_loss: 7.3211 - val_mae: 7.8071\n",
            "Epoch 142/500\n",
            "33/33 [==============================] - 0s 11ms/step - loss: 3.9250 - mae: 4.3944 - val_loss: 8.0028 - val_mae: 8.4879\n",
            "Epoch 143/500\n",
            "33/33 [==============================] - 0s 11ms/step - loss: 3.5942 - mae: 4.0607 - val_loss: 6.6257 - val_mae: 7.1094\n",
            "Epoch 144/500\n",
            "33/33 [==============================] - 0s 12ms/step - loss: 3.7573 - mae: 4.2267 - val_loss: 6.6309 - val_mae: 7.1129\n",
            "Epoch 145/500\n",
            "33/33 [==============================] - 0s 11ms/step - loss: 3.6079 - mae: 4.0757 - val_loss: 6.4163 - val_mae: 6.8930\n",
            "Epoch 146/500\n",
            "33/33 [==============================] - 0s 11ms/step - loss: 4.3041 - mae: 4.7759 - val_loss: 9.7119 - val_mae: 10.2012\n"
          ]
        },
        {
          "output_type": "execute_result",
          "data": {
            "text/plain": [
              "<keras.callbacks.History at 0x7fdb9131e190>"
            ]
          },
          "metadata": {},
          "execution_count": 31
        }
      ],
      "source": [
        "keras.backend.clear_session()\n",
        "tf.random.set_seed(42)\n",
        "np.random.seed(42)\n",
        "\n",
        "window_size = 30\n",
        "train_set = sequential_window_dataset(x_train, window_size)\n",
        "valid_set = sequential_window_dataset(x_valid, window_size)\n",
        "\n",
        "model = keras.models.Sequential([\n",
        "  keras.layers.Conv1D(filters=32, kernel_size=5,\n",
        "                        strides=1, padding=\"causal\",\n",
        "                        activation=\"relu\", \n",
        "                        input_shape=[None, 1]),\n",
        "  keras.layers.LSTM(32,return_sequences = True),\n",
        "  keras.layers.LSTM(100,return_sequences = True),\n",
        "  keras.layers.Dense(1),\n",
        "  keras.layers.Lambda(lambda x: x * 200.0)\n",
        "])\n",
        "optimizer = keras.optimizers.Adam(lr=3e-4)\n",
        "model.compile(loss=keras.losses.Huber(),\n",
        "       optimizer=optimizer,\n",
        "       metrics=[\"mae\"])\n",
        "reset_states = ResetStatesCallback()\n",
        "model_checkpoint = keras.callbacks.ModelCheckpoint(\n",
        "    \"my_checkpoint.h5\", save_best_only=True)\n",
        "early_stopping = keras.callbacks.EarlyStopping(patience=50)\n",
        "model.fit(train_set, epochs=500,\n",
        "          validation_data=valid_set,\n",
        "          callbacks=[early_stopping, model_checkpoint, reset_states])"
      ]
    },
    {
      "cell_type": "code",
      "execution_count": 32,
      "metadata": {
        "id": "nPeZUfQy8OJQ"
      },
      "outputs": [],
      "source": [
        "model = keras.models.load_model(\"my_checkpoint.h5\")"
      ]
    },
    {
      "cell_type": "code",
      "execution_count": 33,
      "metadata": {
        "id": "4tFrq5uW8OJR",
        "colab": {
          "base_uri": "https://localhost:8080/"
        },
        "outputId": "073dfae2-6bde-4288-bd07-59e930d80cf4"
      },
      "outputs": [
        {
          "output_type": "stream",
          "name": "stdout",
          "text": [
            "1/1 [==============================] - 1s 1s/step\n"
          ]
        }
      ],
      "source": [
        "rnn_forecast = model.predict(series[np.newaxis, :, np.newaxis])\n",
        "rnn_forecast = rnn_forecast[0, split_time - 1:-1, 0]"
      ]
    },
    {
      "cell_type": "code",
      "source": [
        "# rnn_forecast.shape\n"
      ],
      "metadata": {
        "id": "xJDVzsqhEHMC"
      },
      "execution_count": 34,
      "outputs": []
    },
    {
      "cell_type": "code",
      "execution_count": 35,
      "metadata": {
        "id": "ZfaR6nqj8OJT",
        "colab": {
          "base_uri": "https://localhost:8080/",
          "height": 388
        },
        "outputId": "1a27c237-ab36-4c12-cc12-3b3050a29c8c"
      },
      "outputs": [
        {
          "output_type": "display_data",
          "data": {
            "text/plain": [
              "<Figure size 720x432 with 1 Axes>"
            ],
            "image/png": "[encoded data removed]"
          },
          "metadata": {
            "needs_background": "light"
          }
        }
      ],
      "source": [
        "plt.figure(figsize=(10, 6))\n",
        "plot_series(time_valid, x_valid)\n",
        "plot_series(time_valid, rnn_forecast)"
      ]
    },
    {
      "cell_type": "code",
      "execution_count": 36,
      "metadata": {
        "id": "Wgf2u2Tp8OJV",
        "colab": {
          "base_uri": "https://localhost:8080/"
        },
        "outputId": "8723bdb3-7251-4589-94b1-03abf0e93121"
      },
      "outputs": [
        {
          "output_type": "execute_result",
          "data": {
            "text/plain": [
              "10.947572"
            ]
          },
          "metadata": {},
          "execution_count": 36
        }
      ],
      "source": [
        "keras.metrics.mean_absolute_error(x_valid, rnn_forecast).numpy()"
      ]
    },
    {
      "cell_type": "markdown",
      "source": [
        "# 新增區段"
      ],
      "metadata": {
        "id": "AfDSfD1XKmIq"
      }
    }
  ],
  "metadata": {
    "accelerator": "GPU",
    "colab": {
      "collapsed_sections": [
        "vidayERjaO5q"
      ],
      "provenance": []
    },
    "kernelspec": {
      "display_name": "Python 3",
      "name": "python3"
    },
    "gpuClass": "standard"
  },
  "nbformat": 4,
  "nbformat_minor": 0
}